{
 "cells": [
  {
   "cell_type": "code",
   "execution_count": 3,
   "metadata": {},
   "outputs": [],
   "source": [
    "# !pip install smolagents"
   ]
  },
  {
   "cell_type": "code",
   "execution_count": null,
   "metadata": {},
   "outputs": [],
   "source": [
    "import os\n",
    "os.environ[\"HF_Token\"]=\"Your HF Token\"\n"
   ]
  },
  {
   "cell_type": "code",
   "execution_count": 5,
   "metadata": {},
   "outputs": [],
   "source": [
    "from smolagents import CodeAgent,DuckDuckGoSearchTool,HfApiModel"
   ]
  },
  {
   "cell_type": "code",
   "execution_count": 7,
   "metadata": {},
   "outputs": [],
   "source": [
    "model=HfApiModel()\n",
    "agent=CodeAgent(model=model,tools=[DuckDuckGoSearchTool()])"
   ]
  },
  {
   "cell_type": "code",
   "execution_count": 8,
   "metadata": {},
   "outputs": [
    {
     "data": {
      "text/html": [
       "<pre style=\"white-space:pre;overflow-x:auto;line-height:normal;font-family:Menlo,'DejaVu Sans Mono',consolas,'Courier New',monospace\"><span style=\"color: #d4b702; text-decoration-color: #d4b702\">╭──────────────────────────────────────────────────── </span><span style=\"color: #d4b702; text-decoration-color: #d4b702; font-weight: bold\">New run</span><span style=\"color: #d4b702; text-decoration-color: #d4b702\"> ────────────────────────────────────────────────────╮</span>\n",
       "<span style=\"color: #d4b702; text-decoration-color: #d4b702\">│</span>                                                                                                                 <span style=\"color: #d4b702; text-decoration-color: #d4b702\">│</span>\n",
       "<span style=\"color: #d4b702; text-decoration-color: #d4b702\">│</span> <span style=\"font-weight: bold\">difference between human brain vs machine brain</span>                                                                 <span style=\"color: #d4b702; text-decoration-color: #d4b702\">│</span>\n",
       "<span style=\"color: #d4b702; text-decoration-color: #d4b702\">│</span>                                                                                                                 <span style=\"color: #d4b702; text-decoration-color: #d4b702\">│</span>\n",
       "<span style=\"color: #d4b702; text-decoration-color: #d4b702\">╰─ HfApiModel - Qwen/Qwen2.5-Coder-32B-Instruct ──────────────────────────────────────────────────────────────────╯</span>\n",
       "</pre>\n"
      ],
      "text/plain": [
       "\u001b[38;2;212;183;2m╭─\u001b[0m\u001b[38;2;212;183;2m───────────────────────────────────────────────────\u001b[0m\u001b[38;2;212;183;2m \u001b[0m\u001b[1;38;2;212;183;2mNew run\u001b[0m\u001b[38;2;212;183;2m \u001b[0m\u001b[38;2;212;183;2m───────────────────────────────────────────────────\u001b[0m\u001b[38;2;212;183;2m─╮\u001b[0m\n",
       "\u001b[38;2;212;183;2m│\u001b[0m                                                                                                                 \u001b[38;2;212;183;2m│\u001b[0m\n",
       "\u001b[38;2;212;183;2m│\u001b[0m \u001b[1mdifference between human brain vs machine brain\u001b[0m                                                                 \u001b[38;2;212;183;2m│\u001b[0m\n",
       "\u001b[38;2;212;183;2m│\u001b[0m                                                                                                                 \u001b[38;2;212;183;2m│\u001b[0m\n",
       "\u001b[38;2;212;183;2m╰─\u001b[0m\u001b[38;2;212;183;2m HfApiModel - Qwen/Qwen2.5-Coder-32B-Instruct \u001b[0m\u001b[38;2;212;183;2m─────────────────────────────────────────────────────────────────\u001b[0m\u001b[38;2;212;183;2m─╯\u001b[0m\n"
      ]
     },
     "metadata": {},
     "output_type": "display_data"
    },
    {
     "data": {
      "text/html": [
       "<pre style=\"white-space:pre;overflow-x:auto;line-height:normal;font-family:Menlo,'DejaVu Sans Mono',consolas,'Courier New',monospace\"><span style=\"color: #d4b702; text-decoration-color: #d4b702\">━━━━━━━━━━━━━━━━━━━━━━━━━━━━━━━━━━━━━━━━━━━━━━━━━━━━━ </span><span style=\"font-weight: bold\">Step </span><span style=\"color: #008080; text-decoration-color: #008080; font-weight: bold\">1</span><span style=\"color: #d4b702; text-decoration-color: #d4b702\"> ━━━━━━━━━━━━━━━━━━━━━━━━━━━━━━━━━━━━━━━━━━━━━━━━━━━━━━</span>\n",
       "</pre>\n"
      ],
      "text/plain": [
       "\u001b[38;2;212;183;2m━━━━━━━━━━━━━━━━━━━━━━━━━━━━━━━━━━━━━━━━━━━━━━━━━━━━━ \u001b[0m\u001b[1mStep \u001b[0m\u001b[1;36m1\u001b[0m\u001b[38;2;212;183;2m ━━━━━━━━━━━━━━━━━━━━━━━━━━━━━━━━━━━━━━━━━━━━━━━━━━━━━━\u001b[0m\n"
      ]
     },
     "metadata": {},
     "output_type": "display_data"
    },
    {
     "data": {
      "text/html": [
       "<pre style=\"white-space:pre;overflow-x:auto;line-height:normal;font-family:Menlo,'DejaVu Sans Mono',consolas,'Courier New',monospace\"> ─ <span style=\"font-weight: bold\">Executing parsed code:</span> ──────────────────────────────────────────────────────────────────────────────────────── \n",
       "  <span style=\"color: #f8f8f2; text-decoration-color: #f8f8f2; background-color: #272822\">human_brain_info </span><span style=\"color: #ff4689; text-decoration-color: #ff4689; background-color: #272822\">=</span><span style=\"color: #f8f8f2; text-decoration-color: #f8f8f2; background-color: #272822\"> web_search(query</span><span style=\"color: #ff4689; text-decoration-color: #ff4689; background-color: #272822\">=</span><span style=\"color: #e6db74; text-decoration-color: #e6db74; background-color: #272822\">\"human brain overview\"</span><span style=\"color: #f8f8f2; text-decoration-color: #f8f8f2; background-color: #272822\">)</span><span style=\"background-color: #272822\">                                                    </span>  \n",
       "  <span style=\"color: #f8f8f2; text-decoration-color: #f8f8f2; background-color: #272822\">machine_brain_info </span><span style=\"color: #ff4689; text-decoration-color: #ff4689; background-color: #272822\">=</span><span style=\"color: #f8f8f2; text-decoration-color: #f8f8f2; background-color: #272822\"> web_search(query</span><span style=\"color: #ff4689; text-decoration-color: #ff4689; background-color: #272822\">=</span><span style=\"color: #e6db74; text-decoration-color: #e6db74; background-color: #272822\">\"artificial neural network overview\"</span><span style=\"color: #f8f8f2; text-decoration-color: #f8f8f2; background-color: #272822\">)</span><span style=\"background-color: #272822\">                                    </span>  \n",
       "  <span style=\"color: #f8f8f2; text-decoration-color: #f8f8f2; background-color: #272822\">print(</span><span style=\"color: #e6db74; text-decoration-color: #e6db74; background-color: #272822\">\"Human Brain Info:\"</span><span style=\"color: #f8f8f2; text-decoration-color: #f8f8f2; background-color: #272822\">, human_brain_info)</span><span style=\"background-color: #272822\">                                                                   </span>  \n",
       "  <span style=\"color: #f8f8f2; text-decoration-color: #f8f8f2; background-color: #272822\">print(</span><span style=\"color: #e6db74; text-decoration-color: #e6db74; background-color: #272822\">\"Machine Brain Info:\"</span><span style=\"color: #f8f8f2; text-decoration-color: #f8f8f2; background-color: #272822\">, machine_brain_info)</span><span style=\"background-color: #272822\">                                                               </span>  \n",
       " ───────────────────────────────────────────────────────────────────────────────────────────────────────────────── \n",
       "</pre>\n"
      ],
      "text/plain": [
       " ─ \u001b[1mExecuting parsed code:\u001b[0m ──────────────────────────────────────────────────────────────────────────────────────── \n",
       "  \u001b[38;2;248;248;242;48;2;39;40;34mhuman_brain_info\u001b[0m\u001b[38;2;248;248;242;48;2;39;40;34m \u001b[0m\u001b[38;2;255;70;137;48;2;39;40;34m=\u001b[0m\u001b[38;2;248;248;242;48;2;39;40;34m \u001b[0m\u001b[38;2;248;248;242;48;2;39;40;34mweb_search\u001b[0m\u001b[38;2;248;248;242;48;2;39;40;34m(\u001b[0m\u001b[38;2;248;248;242;48;2;39;40;34mquery\u001b[0m\u001b[38;2;255;70;137;48;2;39;40;34m=\u001b[0m\u001b[38;2;230;219;116;48;2;39;40;34m\"\u001b[0m\u001b[38;2;230;219;116;48;2;39;40;34mhuman brain overview\u001b[0m\u001b[38;2;230;219;116;48;2;39;40;34m\"\u001b[0m\u001b[38;2;248;248;242;48;2;39;40;34m)\u001b[0m\u001b[48;2;39;40;34m                                                    \u001b[0m  \n",
       "  \u001b[38;2;248;248;242;48;2;39;40;34mmachine_brain_info\u001b[0m\u001b[38;2;248;248;242;48;2;39;40;34m \u001b[0m\u001b[38;2;255;70;137;48;2;39;40;34m=\u001b[0m\u001b[38;2;248;248;242;48;2;39;40;34m \u001b[0m\u001b[38;2;248;248;242;48;2;39;40;34mweb_search\u001b[0m\u001b[38;2;248;248;242;48;2;39;40;34m(\u001b[0m\u001b[38;2;248;248;242;48;2;39;40;34mquery\u001b[0m\u001b[38;2;255;70;137;48;2;39;40;34m=\u001b[0m\u001b[38;2;230;219;116;48;2;39;40;34m\"\u001b[0m\u001b[38;2;230;219;116;48;2;39;40;34martificial neural network overview\u001b[0m\u001b[38;2;230;219;116;48;2;39;40;34m\"\u001b[0m\u001b[38;2;248;248;242;48;2;39;40;34m)\u001b[0m\u001b[48;2;39;40;34m                                    \u001b[0m  \n",
       "  \u001b[38;2;248;248;242;48;2;39;40;34mprint\u001b[0m\u001b[38;2;248;248;242;48;2;39;40;34m(\u001b[0m\u001b[38;2;230;219;116;48;2;39;40;34m\"\u001b[0m\u001b[38;2;230;219;116;48;2;39;40;34mHuman Brain Info:\u001b[0m\u001b[38;2;230;219;116;48;2;39;40;34m\"\u001b[0m\u001b[38;2;248;248;242;48;2;39;40;34m,\u001b[0m\u001b[38;2;248;248;242;48;2;39;40;34m \u001b[0m\u001b[38;2;248;248;242;48;2;39;40;34mhuman_brain_info\u001b[0m\u001b[38;2;248;248;242;48;2;39;40;34m)\u001b[0m\u001b[48;2;39;40;34m                                                                   \u001b[0m  \n",
       "  \u001b[38;2;248;248;242;48;2;39;40;34mprint\u001b[0m\u001b[38;2;248;248;242;48;2;39;40;34m(\u001b[0m\u001b[38;2;230;219;116;48;2;39;40;34m\"\u001b[0m\u001b[38;2;230;219;116;48;2;39;40;34mMachine Brain Info:\u001b[0m\u001b[38;2;230;219;116;48;2;39;40;34m\"\u001b[0m\u001b[38;2;248;248;242;48;2;39;40;34m,\u001b[0m\u001b[38;2;248;248;242;48;2;39;40;34m \u001b[0m\u001b[38;2;248;248;242;48;2;39;40;34mmachine_brain_info\u001b[0m\u001b[38;2;248;248;242;48;2;39;40;34m)\u001b[0m\u001b[48;2;39;40;34m                                                               \u001b[0m  \n",
       " ───────────────────────────────────────────────────────────────────────────────────────────────────────────────── \n"
      ]
     },
     "metadata": {},
     "output_type": "display_data"
    },
    {
     "data": {
      "text/html": [
       "<pre style=\"white-space:pre;overflow-x:auto;line-height:normal;font-family:Menlo,'DejaVu Sans Mono',consolas,'Courier New',monospace\"><span style=\"font-weight: bold\">Execution logs:</span>\n",
       "Human Brain Info: ## Search Results\n",
       "\n",
       "[Human brain - Wikipedia](https://en.wikipedia.org/wiki/Human_brain)\n",
       "The human brain is the central organ of the nervous system, and with the spinal cord, comprises the central nervous\n",
       "system.It consists of the cerebrum, the brainstem and the cerebellum.The brain controls most of the activities of \n",
       "the body, processing, integrating, and coordinating the information it receives from the sensory nervous system.The\n",
       "brain integrates the instructions sent to the rest ...\n",
       "\n",
       "[Brain Anatomy and How the Brain Works - Johns Hopkins \n",
       "Medicine](https://www.hopkinsmedicine.org/health/conditions-and-diseases/anatomy-of-the-brain)\n",
       "The parietal lobe houses Wernicke's area, which helps the brain understand spoken language. Occipital lobe. The \n",
       "occipital lobe is the back part of the brain that is involved with vision. Temporal lobe. The sides of the brain, \n",
       "temporal lobes are involved in short-term memory, speech, musical rhythm and some degree of smell recognition.\n",
       "\n",
       "[Brain Basics: Know Your Brain | National Institute of Neurological \n",
       "...](https://www.ninds.nih.gov/health-information/public-education/brain-basics/brain-basics-know-your-brain)\n",
       "The brain is the most complex part of the human body. This three-pound organ is the seat of intelligence, \n",
       "interpreter of the senses, initiator of body movement, and controller of behavior. Lying in its bony shell and \n",
       "washed by protective fluid, the brain is the source of all the qualities that define our humanity.\n",
       "\n",
       "[Brain: Parts, Function, How It Works &amp; Conditions - Cleveland \n",
       "Clinic](https://my.clevelandclinic.org/health/body/22638-brain)\n",
       "Overview The main parts of the human brain, including the layers and lobes. ... An adult human brain weighs, on \n",
       "average, about 3 pounds. When you're born, it weighs about 1 pound and grows to about 2 pounds through childhood. \n",
       "The weight of your brain varies based on your sex and body size.\n",
       "\n",
       "[Parts of the Brain and Their Functions - Science Notes and \n",
       "Projects](https://sciencenotes.org/parts-of-the-brain-and-their-functions/)\n",
       "How many neurons are in the human brain? There are about 86 billion neurons in the human brain. These neurons are \n",
       "connected by trillions of synapses, forming a complex networks. How much does the human brain weigh? The average \n",
       "adult human brain weighs about 1.3 to 1.4 kilograms (about 3 pounds). This weight represents about 2% of the total \n",
       "body ...\n",
       "\n",
       "[Brain (Human Anatomy): Overview, Function, Structure - Biology Dictionary](https://biologydictionary.net/brain/)\n",
       "The brain is an organ that coordinates nervous system function in vertebrate and most invertebrate animals. The \n",
       "brain is typically located inside the head, within a protective covering such as an exoskeleton or skull. In \n",
       "humans, the brain weighs about three pounds and consumes a stunning 20-25% of all the body's energy!\n",
       "\n",
       "[Brain | Definition, Parts, Functions, &amp; Facts | Britannica](https://www.britannica.com/science/brain)\n",
       "brain, the mass of nerve tissue in the anterior end of an organism. The brain integrates sensory information and \n",
       "directs motor responses; in higher vertebrates it is also the centre of learning.The human brain weighs \n",
       "approximately 1.4 kg (3 pounds) and is made up of billions of cells called neurons.Junctions between neurons, known\n",
       "as synapses, enable electrical and chemical messages to be ...\n",
       "\n",
       "[Brain: Function and Anatomy, Conditions, and Health Tips](https://www.healthline.com/health/brain)\n",
       "The brain is an organ made up of a large mass of nerve tissue protected within the skull. It plays a role in just \n",
       "about every major body system.\n",
       "\n",
       "[Human Brain: Structure, Location, Function, Parts &amp; Pictures](https://anatomy.co.uk/brain/)\n",
       "The human brain and spinal cord are components of the Central Nervous System. The cranium and the three membranes \n",
       "with cerebrospinal fluid, named meninges, allow the brain to stay protected from impacts/ knocking on its four \n",
       "lobes:. Picture 1: Parts of the Human Brain. The frontal lobe is located behind the forehead, and is responsible \n",
       "for considerable of the complex cognitive function ...\n",
       "\n",
       "[Human Brain | A Simplified Psychology Guide](https://psychology.tips/human-brain/)\n",
       "Definition of Human Brain: Overview: The human brain is the central organ of the nervous system in humans. It \n",
       "serves as the command center, responsible for controlling and coordinating all the actions and functions of the \n",
       "body. Anatomy: The human brain is located in the cranial cavity and is protected by the skull.\n",
       "Machine Brain Info: ## Search Results\n",
       "\n",
       "[Artificial Neural Networks: An Overview - \n",
       "ResearchGate](https://www.researchgate.net/publication/373700317_Artificial_Neural_Networks_An_Overview)\n",
       "The feed-forward neural network is the most fundamental artificial neural network uti lized for typical recurring \n",
       "and characterization issues. There i s no circling in the network.\n",
       "\n",
       "[Overview of Artificial Neural Networks | \n",
       "SpringerLink](https://link.springer.com/protocol/10.1007/978-1-60327-101-1_2)\n",
       "The artificial neural network (ANN), or simply neural network, is a machine learning method evolved from the idea \n",
       "of simulating the human brain. The data explosion in modern drug discovery research requires sophisticated analysis\n",
       "methods to uncover the hidden causal...\n",
       "\n",
       "[Artificial Neural Network - an overview | ScienceDirect \n",
       "Topics](https://www.sciencedirect.com/topics/earth-and-planetary-sciences/artificial-neural-network)\n",
       "Artificial neural network (ANN) model involves computations and mathematics, which simulate the human-brain \n",
       "processes. Many of the recently achieved advancements are related to the artificial intelligence research area such\n",
       "as image and voice recognition, robotics, and using ANNs. The ANN models have the specific architecture format, \n",
       "which is ...\n",
       "\n",
       "[Overview of artificial neural networks - PubMed](https://pubmed.ncbi.nlm.nih.gov/19065803/)\n",
       "Overview of artificial neural networks Methods Mol Biol. 2008:458:15-23. doi: 10.1007/978-1-60327-101-1_2. Authors \n",
       "Jinming Zou 1 ... The artificial neural network (ANN), or simply neural network, is a machine learning method \n",
       "evolved from the idea of simulating the human brain. The data explosion in modem drug discovery research requires \n",
       "...\n",
       "\n",
       "[Artificial Neural Networks: An Overview - \n",
       "DATAVERSITY](https://www.dataversity.net/artificial-neural-networks-overview/)\n",
       "Artificial Neural Networks are computing systems loosely modeled after the Neural Networks of the human brain. \n",
       "Though not as efficient, they perform in roughly similar ways. The brain learns from what it experiences, and so do\n",
       "these systems. Artificial Neural Networks learn tasks by comparing samples, generally without specifically assigned\n",
       "goals.\n",
       "\n",
       "[Artificial Neural Network: Understanding the Basic Concepts without \n",
       "...](https://pmc.ncbi.nlm.nih.gov/articles/PMC6428006/)\n",
       "ARTIFICIAL NEURAL NETWORK. The basic unit by which the brain works is a neuron. Neurons transmit electrical signals\n",
       "(action potentials) from one end to the other. 11 That is, electrical signals are transmitted from the dendrites to\n",
       "the axon terminals through the axon body. In this way, the electrical signals continue to be transmitted across the\n",
       "synapse from one neuron to another.\n",
       "\n",
       "[Neural networks: An overview of early research, current frameworks and \n",
       "...](https://www.sciencedirect.com/science/article/pii/S0925231216305550)\n",
       "The concept of neural networks germinated independently but over time new contexts and disciplines have arisen, \n",
       "covering wider objectives which naturally include neural networks. In fact, artificial neural-network techniques \n",
       "combine naturally with others forming a set of computational procedures with a solid theoretical base, and with an \n",
       "...\n",
       "\n",
       "[Introduction to Artificial Neural Networks \n",
       "(ANNs)](https://www.geeksforgeeks.org/introduction-to-artificial-neutral-networks/)\n",
       "In Artificial Neural Networks (ANNs), data flows from the input layer to the output layer through one or more \n",
       "hidden layers. Each layer consists of neurons that receive input, process it, and pass the output to the next \n",
       "layer. The layers work together to extract features, transform data, and make pr ...\n",
       "\n",
       "[Artificial Neural Network Overview | SpringerLink](https://link.springer.com/chapter/10.1007/978-3-030-50061-0_2)\n",
       "In this chapter artificial neural networks are thoroughly studied through the deconstruction of the model. Its \n",
       "several parts are described, and a comparison of the different used methods for each of these components is made, \n",
       "such as the functioning of each neuron, the learning process that makes use of optimization tools, the \n",
       "hyperparameters that define the model's architecture, and the ...\n",
       "\n",
       "[An Overview and Applications of Artificial Neural \n",
       "Networks](https://www.analyticsvidhya.com/blog/2022/03/an-overview-and-applications-of-artificial-neural-networks-a\n",
       "nn/)\n",
       "A computational network grounded on natural neural networks that construct the structure of the human brain is \n",
       "known as an artificial neural network. Artificial neural networks, like human smarts, have neurons that are coupled\n",
       "to each other in different layers of the networks.\n",
       "\n",
       "Out: None\n",
       "</pre>\n"
      ],
      "text/plain": [
       "\u001b[1mExecution logs:\u001b[0m\n",
       "Human Brain Info: ## Search Results\n",
       "\n",
       "[Human brain - Wikipedia](https://en.wikipedia.org/wiki/Human_brain)\n",
       "The human brain is the central organ of the nervous system, and with the spinal cord, comprises the central nervous\n",
       "system.It consists of the cerebrum, the brainstem and the cerebellum.The brain controls most of the activities of \n",
       "the body, processing, integrating, and coordinating the information it receives from the sensory nervous system.The\n",
       "brain integrates the instructions sent to the rest ...\n",
       "\n",
       "[Brain Anatomy and How the Brain Works - Johns Hopkins \n",
       "Medicine](https://www.hopkinsmedicine.org/health/conditions-and-diseases/anatomy-of-the-brain)\n",
       "The parietal lobe houses Wernicke's area, which helps the brain understand spoken language. Occipital lobe. The \n",
       "occipital lobe is the back part of the brain that is involved with vision. Temporal lobe. The sides of the brain, \n",
       "temporal lobes are involved in short-term memory, speech, musical rhythm and some degree of smell recognition.\n",
       "\n",
       "[Brain Basics: Know Your Brain | National Institute of Neurological \n",
       "...](https://www.ninds.nih.gov/health-information/public-education/brain-basics/brain-basics-know-your-brain)\n",
       "The brain is the most complex part of the human body. This three-pound organ is the seat of intelligence, \n",
       "interpreter of the senses, initiator of body movement, and controller of behavior. Lying in its bony shell and \n",
       "washed by protective fluid, the brain is the source of all the qualities that define our humanity.\n",
       "\n",
       "[Brain: Parts, Function, How It Works & Conditions - Cleveland \n",
       "Clinic](https://my.clevelandclinic.org/health/body/22638-brain)\n",
       "Overview The main parts of the human brain, including the layers and lobes. ... An adult human brain weighs, on \n",
       "average, about 3 pounds. When you're born, it weighs about 1 pound and grows to about 2 pounds through childhood. \n",
       "The weight of your brain varies based on your sex and body size.\n",
       "\n",
       "[Parts of the Brain and Their Functions - Science Notes and \n",
       "Projects](https://sciencenotes.org/parts-of-the-brain-and-their-functions/)\n",
       "How many neurons are in the human brain? There are about 86 billion neurons in the human brain. These neurons are \n",
       "connected by trillions of synapses, forming a complex networks. How much does the human brain weigh? The average \n",
       "adult human brain weighs about 1.3 to 1.4 kilograms (about 3 pounds). This weight represents about 2% of the total \n",
       "body ...\n",
       "\n",
       "[Brain (Human Anatomy): Overview, Function, Structure - Biology Dictionary](https://biologydictionary.net/brain/)\n",
       "The brain is an organ that coordinates nervous system function in vertebrate and most invertebrate animals. The \n",
       "brain is typically located inside the head, within a protective covering such as an exoskeleton or skull. In \n",
       "humans, the brain weighs about three pounds and consumes a stunning 20-25% of all the body's energy!\n",
       "\n",
       "[Brain | Definition, Parts, Functions, & Facts | Britannica](https://www.britannica.com/science/brain)\n",
       "brain, the mass of nerve tissue in the anterior end of an organism. The brain integrates sensory information and \n",
       "directs motor responses; in higher vertebrates it is also the centre of learning.The human brain weighs \n",
       "approximately 1.4 kg (3 pounds) and is made up of billions of cells called neurons.Junctions between neurons, known\n",
       "as synapses, enable electrical and chemical messages to be ...\n",
       "\n",
       "[Brain: Function and Anatomy, Conditions, and Health Tips](https://www.healthline.com/health/brain)\n",
       "The brain is an organ made up of a large mass of nerve tissue protected within the skull. It plays a role in just \n",
       "about every major body system.\n",
       "\n",
       "[Human Brain: Structure, Location, Function, Parts & Pictures](https://anatomy.co.uk/brain/)\n",
       "The human brain and spinal cord are components of the Central Nervous System. The cranium and the three membranes \n",
       "with cerebrospinal fluid, named meninges, allow the brain to stay protected from impacts/ knocking on its four \n",
       "lobes:. Picture 1: Parts of the Human Brain. The frontal lobe is located behind the forehead, and is responsible \n",
       "for considerable of the complex cognitive function ...\n",
       "\n",
       "[Human Brain | A Simplified Psychology Guide](https://psychology.tips/human-brain/)\n",
       "Definition of Human Brain: Overview: The human brain is the central organ of the nervous system in humans. It \n",
       "serves as the command center, responsible for controlling and coordinating all the actions and functions of the \n",
       "body. Anatomy: The human brain is located in the cranial cavity and is protected by the skull.\n",
       "Machine Brain Info: ## Search Results\n",
       "\n",
       "[Artificial Neural Networks: An Overview - \n",
       "ResearchGate](https://www.researchgate.net/publication/373700317_Artificial_Neural_Networks_An_Overview)\n",
       "The feed-forward neural network is the most fundamental artificial neural network uti lized for typical recurring \n",
       "and characterization issues. There i s no circling in the network.\n",
       "\n",
       "[Overview of Artificial Neural Networks | \n",
       "SpringerLink](https://link.springer.com/protocol/10.1007/978-1-60327-101-1_2)\n",
       "The artificial neural network (ANN), or simply neural network, is a machine learning method evolved from the idea \n",
       "of simulating the human brain. The data explosion in modern drug discovery research requires sophisticated analysis\n",
       "methods to uncover the hidden causal...\n",
       "\n",
       "[Artificial Neural Network - an overview | ScienceDirect \n",
       "Topics](https://www.sciencedirect.com/topics/earth-and-planetary-sciences/artificial-neural-network)\n",
       "Artificial neural network (ANN) model involves computations and mathematics, which simulate the human-brain \n",
       "processes. Many of the recently achieved advancements are related to the artificial intelligence research area such\n",
       "as image and voice recognition, robotics, and using ANNs. The ANN models have the specific architecture format, \n",
       "which is ...\n",
       "\n",
       "[Overview of artificial neural networks - PubMed](https://pubmed.ncbi.nlm.nih.gov/19065803/)\n",
       "Overview of artificial neural networks Methods Mol Biol. 2008:458:15-23. doi: 10.1007/978-1-60327-101-1_2. Authors \n",
       "Jinming Zou 1 ... The artificial neural network (ANN), or simply neural network, is a machine learning method \n",
       "evolved from the idea of simulating the human brain. The data explosion in modem drug discovery research requires \n",
       "...\n",
       "\n",
       "[Artificial Neural Networks: An Overview - \n",
       "DATAVERSITY](https://www.dataversity.net/artificial-neural-networks-overview/)\n",
       "Artificial Neural Networks are computing systems loosely modeled after the Neural Networks of the human brain. \n",
       "Though not as efficient, they perform in roughly similar ways. The brain learns from what it experiences, and so do\n",
       "these systems. Artificial Neural Networks learn tasks by comparing samples, generally without specifically assigned\n",
       "goals.\n",
       "\n",
       "[Artificial Neural Network: Understanding the Basic Concepts without \n",
       "...](https://pmc.ncbi.nlm.nih.gov/articles/PMC6428006/)\n",
       "ARTIFICIAL NEURAL NETWORK. The basic unit by which the brain works is a neuron. Neurons transmit electrical signals\n",
       "(action potentials) from one end to the other. 11 That is, electrical signals are transmitted from the dendrites to\n",
       "the axon terminals through the axon body. In this way, the electrical signals continue to be transmitted across the\n",
       "synapse from one neuron to another.\n",
       "\n",
       "[Neural networks: An overview of early research, current frameworks and \n",
       "...](https://www.sciencedirect.com/science/article/pii/S0925231216305550)\n",
       "The concept of neural networks germinated independently but over time new contexts and disciplines have arisen, \n",
       "covering wider objectives which naturally include neural networks. In fact, artificial neural-network techniques \n",
       "combine naturally with others forming a set of computational procedures with a solid theoretical base, and with an \n",
       "...\n",
       "\n",
       "[Introduction to Artificial Neural Networks \n",
       "(ANNs)](https://www.geeksforgeeks.org/introduction-to-artificial-neutral-networks/)\n",
       "In Artificial Neural Networks (ANNs), data flows from the input layer to the output layer through one or more \n",
       "hidden layers. Each layer consists of neurons that receive input, process it, and pass the output to the next \n",
       "layer. The layers work together to extract features, transform data, and make pr ...\n",
       "\n",
       "[Artificial Neural Network Overview | SpringerLink](https://link.springer.com/chapter/10.1007/978-3-030-50061-0_2)\n",
       "In this chapter artificial neural networks are thoroughly studied through the deconstruction of the model. Its \n",
       "several parts are described, and a comparison of the different used methods for each of these components is made, \n",
       "such as the functioning of each neuron, the learning process that makes use of optimization tools, the \n",
       "hyperparameters that define the model's architecture, and the ...\n",
       "\n",
       "[An Overview and Applications of Artificial Neural \n",
       "Networks](https://www.analyticsvidhya.com/blog/2022/03/an-overview-and-applications-of-artificial-neural-networks-a\n",
       "nn/)\n",
       "A computational network grounded on natural neural networks that construct the structure of the human brain is \n",
       "known as an artificial neural network. Artificial neural networks, like human smarts, have neurons that are coupled\n",
       "to each other in different layers of the networks.\n",
       "\n",
       "Out: None\n"
      ]
     },
     "metadata": {},
     "output_type": "display_data"
    },
    {
     "data": {
      "text/html": [
       "<pre style=\"white-space:pre;overflow-x:auto;line-height:normal;font-family:Menlo,'DejaVu Sans Mono',consolas,'Courier New',monospace\"><span style=\"color: #7f7f7f; text-decoration-color: #7f7f7f\">[Step 1: Duration 11.84 seconds| Input tokens: 2,077 | Output tokens: 100]</span>\n",
       "</pre>\n"
      ],
      "text/plain": [
       "\u001b[2m[Step 1: Duration 11.84 seconds| Input tokens: 2,077 | Output tokens: 100]\u001b[0m\n"
      ]
     },
     "metadata": {},
     "output_type": "display_data"
    },
    {
     "data": {
      "text/html": [
       "<pre style=\"white-space:pre;overflow-x:auto;line-height:normal;font-family:Menlo,'DejaVu Sans Mono',consolas,'Courier New',monospace\"><span style=\"color: #d4b702; text-decoration-color: #d4b702\">━━━━━━━━━━━━━━━━━━━━━━━━━━━━━━━━━━━━━━━━━━━━━━━━━━━━━ </span><span style=\"font-weight: bold\">Step </span><span style=\"color: #008080; text-decoration-color: #008080; font-weight: bold\">2</span><span style=\"color: #d4b702; text-decoration-color: #d4b702\"> ━━━━━━━━━━━━━━━━━━━━━━━━━━━━━━━━━━━━━━━━━━━━━━━━━━━━━━</span>\n",
       "</pre>\n"
      ],
      "text/plain": [
       "\u001b[38;2;212;183;2m━━━━━━━━━━━━━━━━━━━━━━━━━━━━━━━━━━━━━━━━━━━━━━━━━━━━━ \u001b[0m\u001b[1mStep \u001b[0m\u001b[1;36m2\u001b[0m\u001b[38;2;212;183;2m ━━━━━━━━━━━━━━━━━━━━━━━━━━━━━━━━━━━━━━━━━━━━━━━━━━━━━━\u001b[0m\n"
      ]
     },
     "metadata": {},
     "output_type": "display_data"
    },
    {
     "data": {
      "text/html": [
       "<pre style=\"white-space:pre;overflow-x:auto;line-height:normal;font-family:Menlo,'DejaVu Sans Mono',consolas,'Courier New',monospace\"> ─ <span style=\"font-weight: bold\">Executing parsed code:</span> ──────────────────────────────────────────────────────────────────────────────────────── \n",
       "  <span style=\"color: #959077; text-decoration-color: #959077; background-color: #272822\"># Parsing the information for human brain</span><span style=\"background-color: #272822\">                                                                      </span>  \n",
       "  <span style=\"color: #f8f8f2; text-decoration-color: #f8f8f2; background-color: #272822\">human_brain_key_points </span><span style=\"color: #ff4689; text-decoration-color: #ff4689; background-color: #272822\">=</span><span style=\"color: #f8f8f2; text-decoration-color: #f8f8f2; background-color: #272822\"> [</span><span style=\"background-color: #272822\">                                                                                     </span>  \n",
       "  <span style=\"color: #f8f8f2; text-decoration-color: #f8f8f2; background-color: #272822\">    </span><span style=\"color: #e6db74; text-decoration-color: #e6db74; background-color: #272822\">\"Central organ of the nervous system, controls most body activities\"</span><span style=\"color: #f8f8f2; text-decoration-color: #f8f8f2; background-color: #272822\">,</span><span style=\"background-color: #272822\">                                      </span>  \n",
       "  <span style=\"color: #f8f8f2; text-decoration-color: #f8f8f2; background-color: #272822\">    </span><span style=\"color: #e6db74; text-decoration-color: #e6db74; background-color: #272822\">\"Consists of the cerebrum, brainstem, and cerebellum\"</span><span style=\"color: #f8f8f2; text-decoration-color: #f8f8f2; background-color: #272822\">,</span><span style=\"background-color: #272822\">                                                     </span>  \n",
       "  <span style=\"color: #f8f8f2; text-decoration-color: #f8f8f2; background-color: #272822\">    </span><span style=\"color: #e6db74; text-decoration-color: #e6db74; background-color: #272822\">\"Contains approximately 86 billion neurons\"</span><span style=\"color: #f8f8f2; text-decoration-color: #f8f8f2; background-color: #272822\">,</span><span style=\"background-color: #272822\">                                                               </span>  \n",
       "  <span style=\"color: #f8f8f2; text-decoration-color: #f8f8f2; background-color: #272822\">    </span><span style=\"color: #e6db74; text-decoration-color: #e6db74; background-color: #272822\">\"Adaptive and able to reorganize itself (neuroplasticity)\"</span><span style=\"color: #f8f8f2; text-decoration-color: #f8f8f2; background-color: #272822\">,</span><span style=\"background-color: #272822\">                                                </span>  \n",
       "  <span style=\"color: #f8f8f2; text-decoration-color: #f8f8f2; background-color: #272822\">    </span><span style=\"color: #e6db74; text-decoration-color: #e6db74; background-color: #272822\">\"Uses synapses to connect neurons and process information\"</span><span style=\"color: #f8f8f2; text-decoration-color: #f8f8f2; background-color: #272822\">,</span><span style=\"background-color: #272822\">                                                </span>  \n",
       "  <span style=\"color: #f8f8f2; text-decoration-color: #f8f8f2; background-color: #272822\">    </span><span style=\"color: #e6db74; text-decoration-color: #e6db74; background-color: #272822\">\"Capable of complex cognitive functions including learning and memory\"</span><span style=\"background-color: #272822\">                                     </span>  \n",
       "  <span style=\"color: #f8f8f2; text-decoration-color: #f8f8f2; background-color: #272822\">]</span><span style=\"background-color: #272822\">                                                                                                              </span>  \n",
       "  <span style=\"background-color: #272822\">                                                                                                               </span>  \n",
       "  <span style=\"color: #959077; text-decoration-color: #959077; background-color: #272822\"># Parsing the information for artificial neural network</span><span style=\"background-color: #272822\">                                                        </span>  \n",
       "  <span style=\"color: #f8f8f2; text-decoration-color: #f8f8f2; background-color: #272822\">machine_brain_key_points </span><span style=\"color: #ff4689; text-decoration-color: #ff4689; background-color: #272822\">=</span><span style=\"color: #f8f8f2; text-decoration-color: #f8f8f2; background-color: #272822\"> [</span><span style=\"background-color: #272822\">                                                                                   </span>  \n",
       "  <span style=\"color: #f8f8f2; text-decoration-color: #f8f8f2; background-color: #272822\">    </span><span style=\"color: #e6db74; text-decoration-color: #e6db74; background-color: #272822\">\"Computational system inspired by the human brain\"</span><span style=\"color: #f8f8f2; text-decoration-color: #f8f8f2; background-color: #272822\">,</span><span style=\"background-color: #272822\">                                                        </span>  \n",
       "  <span style=\"color: #f8f8f2; text-decoration-color: #f8f8f2; background-color: #272822\">    </span><span style=\"color: #e6db74; text-decoration-color: #e6db74; background-color: #272822\">\"Consists of layers of artificial neurons\"</span><span style=\"color: #f8f8f2; text-decoration-color: #f8f8f2; background-color: #272822\">,</span><span style=\"background-color: #272822\">                                                                </span>  \n",
       "  <span style=\"color: #f8f8f2; text-decoration-color: #f8f8f2; background-color: #272822\">    </span><span style=\"color: #e6db74; text-decoration-color: #e6db74; background-color: #272822\">\"Uses algorithms and data to learn and make predictions\"</span><span style=\"color: #f8f8f2; text-decoration-color: #f8f8f2; background-color: #272822\">,</span><span style=\"background-color: #272822\">                                                  </span>  \n",
       "  <span style=\"color: #f8f8f2; text-decoration-color: #f8f8f2; background-color: #272822\">    </span><span style=\"color: #e6db74; text-decoration-color: #e6db74; background-color: #272822\">\"Cannot reorganize itself in the same way the human brain does\"</span><span style=\"color: #f8f8f2; text-decoration-color: #f8f8f2; background-color: #272822\">,</span><span style=\"background-color: #272822\">                                           </span>  \n",
       "  <span style=\"color: #f8f8f2; text-decoration-color: #f8f8f2; background-color: #272822\">    </span><span style=\"color: #e6db74; text-decoration-color: #e6db74; background-color: #272822\">\"Performance depends on the data it is trained on\"</span><span style=\"color: #f8f8f2; text-decoration-color: #f8f8f2; background-color: #272822\">,</span><span style=\"background-color: #272822\">                                                        </span>  \n",
       "  <span style=\"color: #f8f8f2; text-decoration-color: #f8f8f2; background-color: #272822\">    </span><span style=\"color: #e6db74; text-decoration-color: #e6db74; background-color: #272822\">\"Limited to the tasks it is programmed to perform\"</span><span style=\"background-color: #272822\">                                                         </span>  \n",
       "  <span style=\"color: #f8f8f2; text-decoration-color: #f8f8f2; background-color: #272822\">]</span><span style=\"background-color: #272822\">                                                                                                              </span>  \n",
       "  <span style=\"background-color: #272822\">                                                                                                               </span>  \n",
       "  <span style=\"color: #959077; text-decoration-color: #959077; background-color: #272822\"># Generating the final comparison</span><span style=\"background-color: #272822\">                                                                              </span>  \n",
       "  <span style=\"color: #f8f8f2; text-decoration-color: #f8f8f2; background-color: #272822\">comparison </span><span style=\"color: #ff4689; text-decoration-color: #ff4689; background-color: #272822\">=</span><span style=\"color: #f8f8f2; text-decoration-color: #f8f8f2; background-color: #272822\"> (</span><span style=\"background-color: #272822\">                                                                                                 </span>  \n",
       "  <span style=\"color: #f8f8f2; text-decoration-color: #f8f8f2; background-color: #272822\">    </span><span style=\"color: #e6db74; text-decoration-color: #e6db74; background-color: #272822\">\"The human brain is the central organ of the nervous system, controlling most body activities. \"</span><span style=\"background-color: #272822\">           </span>  \n",
       "  <span style=\"color: #f8f8f2; text-decoration-color: #f8f8f2; background-color: #272822\">    </span><span style=\"color: #e6db74; text-decoration-color: #e6db74; background-color: #272822\">\"It consists of approximately 86 billion neurons and is capable of complex cognitive functions including </span><span style=\"background-color: #272822\">  </span>  \n",
       "  <span style=\"color: #e6db74; text-decoration-color: #e6db74; background-color: #272822\">learning and memory. \"</span><span style=\"background-color: #272822\">                                                                                         </span>  \n",
       "  <span style=\"color: #f8f8f2; text-decoration-color: #f8f8f2; background-color: #272822\">    </span><span style=\"color: #e6db74; text-decoration-color: #e6db74; background-color: #272822\">\"The human brain can reorganize itself (neuroplasticity) and adapt to new experiences throughout life. \"</span><span style=\"background-color: #272822\">   </span>  \n",
       "  <span style=\"color: #f8f8f2; text-decoration-color: #f8f8f2; background-color: #272822\">    </span><span style=\"color: #e6db74; text-decoration-color: #e6db74; background-color: #272822\">\"</span><span style=\"color: #ae81ff; text-decoration-color: #ae81ff; background-color: #272822\">\\n\\n</span><span style=\"color: #e6db74; text-decoration-color: #e6db74; background-color: #272822\">\"</span><span style=\"background-color: #272822\">                                                                                                     </span>  \n",
       "  <span style=\"color: #f8f8f2; text-decoration-color: #f8f8f2; background-color: #272822\">    </span><span style=\"color: #e6db74; text-decoration-color: #e6db74; background-color: #272822\">\"An artificial neural network (ANN), on the other hand, is a computational system inspired by the structure</span>  \n",
       "  <span style=\"color: #e6db74; text-decoration-color: #e6db74; background-color: #272822\">and function of the brain. \"</span><span style=\"background-color: #272822\">                                                                                   </span>  \n",
       "  <span style=\"color: #f8f8f2; text-decoration-color: #f8f8f2; background-color: #272822\">    </span><span style=\"color: #e6db74; text-decoration-color: #e6db74; background-color: #272822\">\"It consists of layers of artificial neurons and uses algorithms and data to learn and make predictions. \"</span><span style=\"background-color: #272822\"> </span>  \n",
       "  <span style=\"color: #f8f8f2; text-decoration-color: #f8f8f2; background-color: #272822\">    </span><span style=\"color: #e6db74; text-decoration-color: #e6db74; background-color: #272822\">\"While ANNs can be very powerful for specific tasks, they lack the adaptive capabilities of the human brain</span>  \n",
       "  <span style=\"color: #e6db74; text-decoration-color: #e6db74; background-color: #272822\">and are limited to the tasks they are programmed to perform.\"</span><span style=\"background-color: #272822\">                                                  </span>  \n",
       "  <span style=\"color: #f8f8f2; text-decoration-color: #f8f8f2; background-color: #272822\">)</span><span style=\"background-color: #272822\">                                                                                                              </span>  \n",
       "  <span style=\"background-color: #272822\">                                                                                                               </span>  \n",
       "  <span style=\"color: #959077; text-decoration-color: #959077; background-color: #272822\"># Printing the final comparison for verification</span><span style=\"background-color: #272822\">                                                               </span>  \n",
       "  <span style=\"color: #f8f8f2; text-decoration-color: #f8f8f2; background-color: #272822\">print(comparison)</span><span style=\"background-color: #272822\">                                                                                              </span>  \n",
       " ───────────────────────────────────────────────────────────────────────────────────────────────────────────────── \n",
       "</pre>\n"
      ],
      "text/plain": [
       " ─ \u001b[1mExecuting parsed code:\u001b[0m ──────────────────────────────────────────────────────────────────────────────────────── \n",
       "  \u001b[38;2;149;144;119;48;2;39;40;34m# Parsing the information for human brain\u001b[0m\u001b[48;2;39;40;34m                                                                      \u001b[0m  \n",
       "  \u001b[38;2;248;248;242;48;2;39;40;34mhuman_brain_key_points\u001b[0m\u001b[38;2;248;248;242;48;2;39;40;34m \u001b[0m\u001b[38;2;255;70;137;48;2;39;40;34m=\u001b[0m\u001b[38;2;248;248;242;48;2;39;40;34m \u001b[0m\u001b[38;2;248;248;242;48;2;39;40;34m[\u001b[0m\u001b[48;2;39;40;34m                                                                                     \u001b[0m  \n",
       "  \u001b[38;2;248;248;242;48;2;39;40;34m    \u001b[0m\u001b[38;2;230;219;116;48;2;39;40;34m\"\u001b[0m\u001b[38;2;230;219;116;48;2;39;40;34mCentral organ of the nervous system, controls most body activities\u001b[0m\u001b[38;2;230;219;116;48;2;39;40;34m\"\u001b[0m\u001b[38;2;248;248;242;48;2;39;40;34m,\u001b[0m\u001b[48;2;39;40;34m                                      \u001b[0m  \n",
       "  \u001b[38;2;248;248;242;48;2;39;40;34m    \u001b[0m\u001b[38;2;230;219;116;48;2;39;40;34m\"\u001b[0m\u001b[38;2;230;219;116;48;2;39;40;34mConsists of the cerebrum, brainstem, and cerebellum\u001b[0m\u001b[38;2;230;219;116;48;2;39;40;34m\"\u001b[0m\u001b[38;2;248;248;242;48;2;39;40;34m,\u001b[0m\u001b[48;2;39;40;34m                                                     \u001b[0m  \n",
       "  \u001b[38;2;248;248;242;48;2;39;40;34m    \u001b[0m\u001b[38;2;230;219;116;48;2;39;40;34m\"\u001b[0m\u001b[38;2;230;219;116;48;2;39;40;34mContains approximately 86 billion neurons\u001b[0m\u001b[38;2;230;219;116;48;2;39;40;34m\"\u001b[0m\u001b[38;2;248;248;242;48;2;39;40;34m,\u001b[0m\u001b[48;2;39;40;34m                                                               \u001b[0m  \n",
       "  \u001b[38;2;248;248;242;48;2;39;40;34m    \u001b[0m\u001b[38;2;230;219;116;48;2;39;40;34m\"\u001b[0m\u001b[38;2;230;219;116;48;2;39;40;34mAdaptive and able to reorganize itself (neuroplasticity)\u001b[0m\u001b[38;2;230;219;116;48;2;39;40;34m\"\u001b[0m\u001b[38;2;248;248;242;48;2;39;40;34m,\u001b[0m\u001b[48;2;39;40;34m                                                \u001b[0m  \n",
       "  \u001b[38;2;248;248;242;48;2;39;40;34m    \u001b[0m\u001b[38;2;230;219;116;48;2;39;40;34m\"\u001b[0m\u001b[38;2;230;219;116;48;2;39;40;34mUses synapses to connect neurons and process information\u001b[0m\u001b[38;2;230;219;116;48;2;39;40;34m\"\u001b[0m\u001b[38;2;248;248;242;48;2;39;40;34m,\u001b[0m\u001b[48;2;39;40;34m                                                \u001b[0m  \n",
       "  \u001b[38;2;248;248;242;48;2;39;40;34m    \u001b[0m\u001b[38;2;230;219;116;48;2;39;40;34m\"\u001b[0m\u001b[38;2;230;219;116;48;2;39;40;34mCapable of complex cognitive functions including learning and memory\u001b[0m\u001b[38;2;230;219;116;48;2;39;40;34m\"\u001b[0m\u001b[48;2;39;40;34m                                     \u001b[0m  \n",
       "  \u001b[38;2;248;248;242;48;2;39;40;34m]\u001b[0m\u001b[48;2;39;40;34m                                                                                                              \u001b[0m  \n",
       "  \u001b[48;2;39;40;34m                                                                                                               \u001b[0m  \n",
       "  \u001b[38;2;149;144;119;48;2;39;40;34m# Parsing the information for artificial neural network\u001b[0m\u001b[48;2;39;40;34m                                                        \u001b[0m  \n",
       "  \u001b[38;2;248;248;242;48;2;39;40;34mmachine_brain_key_points\u001b[0m\u001b[38;2;248;248;242;48;2;39;40;34m \u001b[0m\u001b[38;2;255;70;137;48;2;39;40;34m=\u001b[0m\u001b[38;2;248;248;242;48;2;39;40;34m \u001b[0m\u001b[38;2;248;248;242;48;2;39;40;34m[\u001b[0m\u001b[48;2;39;40;34m                                                                                   \u001b[0m  \n",
       "  \u001b[38;2;248;248;242;48;2;39;40;34m    \u001b[0m\u001b[38;2;230;219;116;48;2;39;40;34m\"\u001b[0m\u001b[38;2;230;219;116;48;2;39;40;34mComputational system inspired by the human brain\u001b[0m\u001b[38;2;230;219;116;48;2;39;40;34m\"\u001b[0m\u001b[38;2;248;248;242;48;2;39;40;34m,\u001b[0m\u001b[48;2;39;40;34m                                                        \u001b[0m  \n",
       "  \u001b[38;2;248;248;242;48;2;39;40;34m    \u001b[0m\u001b[38;2;230;219;116;48;2;39;40;34m\"\u001b[0m\u001b[38;2;230;219;116;48;2;39;40;34mConsists of layers of artificial neurons\u001b[0m\u001b[38;2;230;219;116;48;2;39;40;34m\"\u001b[0m\u001b[38;2;248;248;242;48;2;39;40;34m,\u001b[0m\u001b[48;2;39;40;34m                                                                \u001b[0m  \n",
       "  \u001b[38;2;248;248;242;48;2;39;40;34m    \u001b[0m\u001b[38;2;230;219;116;48;2;39;40;34m\"\u001b[0m\u001b[38;2;230;219;116;48;2;39;40;34mUses algorithms and data to learn and make predictions\u001b[0m\u001b[38;2;230;219;116;48;2;39;40;34m\"\u001b[0m\u001b[38;2;248;248;242;48;2;39;40;34m,\u001b[0m\u001b[48;2;39;40;34m                                                  \u001b[0m  \n",
       "  \u001b[38;2;248;248;242;48;2;39;40;34m    \u001b[0m\u001b[38;2;230;219;116;48;2;39;40;34m\"\u001b[0m\u001b[38;2;230;219;116;48;2;39;40;34mCannot reorganize itself in the same way the human brain does\u001b[0m\u001b[38;2;230;219;116;48;2;39;40;34m\"\u001b[0m\u001b[38;2;248;248;242;48;2;39;40;34m,\u001b[0m\u001b[48;2;39;40;34m                                           \u001b[0m  \n",
       "  \u001b[38;2;248;248;242;48;2;39;40;34m    \u001b[0m\u001b[38;2;230;219;116;48;2;39;40;34m\"\u001b[0m\u001b[38;2;230;219;116;48;2;39;40;34mPerformance depends on the data it is trained on\u001b[0m\u001b[38;2;230;219;116;48;2;39;40;34m\"\u001b[0m\u001b[38;2;248;248;242;48;2;39;40;34m,\u001b[0m\u001b[48;2;39;40;34m                                                        \u001b[0m  \n",
       "  \u001b[38;2;248;248;242;48;2;39;40;34m    \u001b[0m\u001b[38;2;230;219;116;48;2;39;40;34m\"\u001b[0m\u001b[38;2;230;219;116;48;2;39;40;34mLimited to the tasks it is programmed to perform\u001b[0m\u001b[38;2;230;219;116;48;2;39;40;34m\"\u001b[0m\u001b[48;2;39;40;34m                                                         \u001b[0m  \n",
       "  \u001b[38;2;248;248;242;48;2;39;40;34m]\u001b[0m\u001b[48;2;39;40;34m                                                                                                              \u001b[0m  \n",
       "  \u001b[48;2;39;40;34m                                                                                                               \u001b[0m  \n",
       "  \u001b[38;2;149;144;119;48;2;39;40;34m# Generating the final comparison\u001b[0m\u001b[48;2;39;40;34m                                                                              \u001b[0m  \n",
       "  \u001b[38;2;248;248;242;48;2;39;40;34mcomparison\u001b[0m\u001b[38;2;248;248;242;48;2;39;40;34m \u001b[0m\u001b[38;2;255;70;137;48;2;39;40;34m=\u001b[0m\u001b[38;2;248;248;242;48;2;39;40;34m \u001b[0m\u001b[38;2;248;248;242;48;2;39;40;34m(\u001b[0m\u001b[48;2;39;40;34m                                                                                                 \u001b[0m  \n",
       "  \u001b[38;2;248;248;242;48;2;39;40;34m    \u001b[0m\u001b[38;2;230;219;116;48;2;39;40;34m\"\u001b[0m\u001b[38;2;230;219;116;48;2;39;40;34mThe human brain is the central organ of the nervous system, controlling most body activities. \u001b[0m\u001b[38;2;230;219;116;48;2;39;40;34m\"\u001b[0m\u001b[48;2;39;40;34m           \u001b[0m  \n",
       "  \u001b[38;2;248;248;242;48;2;39;40;34m    \u001b[0m\u001b[38;2;230;219;116;48;2;39;40;34m\"\u001b[0m\u001b[38;2;230;219;116;48;2;39;40;34mIt consists of approximately 86 billion neurons and is capable of complex cognitive functions including \u001b[0m\u001b[48;2;39;40;34m  \u001b[0m  \n",
       "  \u001b[38;2;230;219;116;48;2;39;40;34mlearning and memory. \u001b[0m\u001b[38;2;230;219;116;48;2;39;40;34m\"\u001b[0m\u001b[48;2;39;40;34m                                                                                         \u001b[0m  \n",
       "  \u001b[38;2;248;248;242;48;2;39;40;34m    \u001b[0m\u001b[38;2;230;219;116;48;2;39;40;34m\"\u001b[0m\u001b[38;2;230;219;116;48;2;39;40;34mThe human brain can reorganize itself (neuroplasticity) and adapt to new experiences throughout life. \u001b[0m\u001b[38;2;230;219;116;48;2;39;40;34m\"\u001b[0m\u001b[48;2;39;40;34m   \u001b[0m  \n",
       "  \u001b[38;2;248;248;242;48;2;39;40;34m    \u001b[0m\u001b[38;2;230;219;116;48;2;39;40;34m\"\u001b[0m\u001b[38;2;174;129;255;48;2;39;40;34m\\n\u001b[0m\u001b[38;2;174;129;255;48;2;39;40;34m\\n\u001b[0m\u001b[38;2;230;219;116;48;2;39;40;34m\"\u001b[0m\u001b[48;2;39;40;34m                                                                                                     \u001b[0m  \n",
       "  \u001b[38;2;248;248;242;48;2;39;40;34m    \u001b[0m\u001b[38;2;230;219;116;48;2;39;40;34m\"\u001b[0m\u001b[38;2;230;219;116;48;2;39;40;34mAn artificial neural network (ANN), on the other hand, is a computational system inspired by the structure\u001b[0m  \n",
       "  \u001b[38;2;230;219;116;48;2;39;40;34mand function of the brain. \u001b[0m\u001b[38;2;230;219;116;48;2;39;40;34m\"\u001b[0m\u001b[48;2;39;40;34m                                                                                   \u001b[0m  \n",
       "  \u001b[38;2;248;248;242;48;2;39;40;34m    \u001b[0m\u001b[38;2;230;219;116;48;2;39;40;34m\"\u001b[0m\u001b[38;2;230;219;116;48;2;39;40;34mIt consists of layers of artificial neurons and uses algorithms and data to learn and make predictions. \u001b[0m\u001b[38;2;230;219;116;48;2;39;40;34m\"\u001b[0m\u001b[48;2;39;40;34m \u001b[0m  \n",
       "  \u001b[38;2;248;248;242;48;2;39;40;34m    \u001b[0m\u001b[38;2;230;219;116;48;2;39;40;34m\"\u001b[0m\u001b[38;2;230;219;116;48;2;39;40;34mWhile ANNs can be very powerful for specific tasks, they lack the adaptive capabilities of the human brain\u001b[0m  \n",
       "  \u001b[38;2;230;219;116;48;2;39;40;34mand are limited to the tasks they are programmed to perform.\u001b[0m\u001b[38;2;230;219;116;48;2;39;40;34m\"\u001b[0m\u001b[48;2;39;40;34m                                                  \u001b[0m  \n",
       "  \u001b[38;2;248;248;242;48;2;39;40;34m)\u001b[0m\u001b[48;2;39;40;34m                                                                                                              \u001b[0m  \n",
       "  \u001b[48;2;39;40;34m                                                                                                               \u001b[0m  \n",
       "  \u001b[38;2;149;144;119;48;2;39;40;34m# Printing the final comparison for verification\u001b[0m\u001b[48;2;39;40;34m                                                               \u001b[0m  \n",
       "  \u001b[38;2;248;248;242;48;2;39;40;34mprint\u001b[0m\u001b[38;2;248;248;242;48;2;39;40;34m(\u001b[0m\u001b[38;2;248;248;242;48;2;39;40;34mcomparison\u001b[0m\u001b[38;2;248;248;242;48;2;39;40;34m)\u001b[0m\u001b[48;2;39;40;34m                                                                                              \u001b[0m  \n",
       " ───────────────────────────────────────────────────────────────────────────────────────────────────────────────── \n"
      ]
     },
     "metadata": {},
     "output_type": "display_data"
    },
    {
     "data": {
      "text/html": [
       "<pre style=\"white-space:pre;overflow-x:auto;line-height:normal;font-family:Menlo,'DejaVu Sans Mono',consolas,'Courier New',monospace\"><span style=\"font-weight: bold\">Execution logs:</span>\n",
       "The human brain is the central organ of the nervous system, controlling most body activities. It consists of \n",
       "approximately 86 billion neurons and is capable of complex cognitive functions including learning and memory. The \n",
       "human brain can reorganize itself (neuroplasticity) and adapt to new experiences throughout life. \n",
       "\n",
       "An artificial neural network (ANN), on the other hand, is a computational system inspired by the structure and \n",
       "function of the brain. It consists of layers of artificial neurons and uses algorithms and data to learn and make \n",
       "predictions. While ANNs can be very powerful for specific tasks, they lack the adaptive capabilities of the human \n",
       "brain and are limited to the tasks they are programmed to perform.\n",
       "\n",
       "Out: None\n",
       "</pre>\n"
      ],
      "text/plain": [
       "\u001b[1mExecution logs:\u001b[0m\n",
       "The human brain is the central organ of the nervous system, controlling most body activities. It consists of \n",
       "approximately 86 billion neurons and is capable of complex cognitive functions including learning and memory. The \n",
       "human brain can reorganize itself (neuroplasticity) and adapt to new experiences throughout life. \n",
       "\n",
       "An artificial neural network (ANN), on the other hand, is a computational system inspired by the structure and \n",
       "function of the brain. It consists of layers of artificial neurons and uses algorithms and data to learn and make \n",
       "predictions. While ANNs can be very powerful for specific tasks, they lack the adaptive capabilities of the human \n",
       "brain and are limited to the tasks they are programmed to perform.\n",
       "\n",
       "Out: None\n"
      ]
     },
     "metadata": {},
     "output_type": "display_data"
    },
    {
     "data": {
      "text/html": [
       "<pre style=\"white-space:pre;overflow-x:auto;line-height:normal;font-family:Menlo,'DejaVu Sans Mono',consolas,'Courier New',monospace\"><span style=\"color: #7f7f7f; text-decoration-color: #7f7f7f\">[Step 2: Duration 33.19 seconds| Input tokens: 6,350 | Output tokens: 516]</span>\n",
       "</pre>\n"
      ],
      "text/plain": [
       "\u001b[2m[Step 2: Duration 33.19 seconds| Input tokens: 6,350 | Output tokens: 516]\u001b[0m\n"
      ]
     },
     "metadata": {},
     "output_type": "display_data"
    },
    {
     "data": {
      "text/html": [
       "<pre style=\"white-space:pre;overflow-x:auto;line-height:normal;font-family:Menlo,'DejaVu Sans Mono',consolas,'Courier New',monospace\"><span style=\"color: #d4b702; text-decoration-color: #d4b702\">━━━━━━━━━━━━━━━━━━━━━━━━━━━━━━━━━━━━━━━━━━━━━━━━━━━━━ </span><span style=\"font-weight: bold\">Step </span><span style=\"color: #008080; text-decoration-color: #008080; font-weight: bold\">3</span><span style=\"color: #d4b702; text-decoration-color: #d4b702\"> ━━━━━━━━━━━━━━━━━━━━━━━━━━━━━━━━━━━━━━━━━━━━━━━━━━━━━━</span>\n",
       "</pre>\n"
      ],
      "text/plain": [
       "\u001b[38;2;212;183;2m━━━━━━━━━━━━━━━━━━━━━━━━━━━━━━━━━━━━━━━━━━━━━━━━━━━━━ \u001b[0m\u001b[1mStep \u001b[0m\u001b[1;36m3\u001b[0m\u001b[38;2;212;183;2m ━━━━━━━━━━━━━━━━━━━━━━━━━━━━━━━━━━━━━━━━━━━━━━━━━━━━━━\u001b[0m\n"
      ]
     },
     "metadata": {},
     "output_type": "display_data"
    },
    {
     "data": {
      "text/html": [
       "<pre style=\"white-space:pre;overflow-x:auto;line-height:normal;font-family:Menlo,'DejaVu Sans Mono',consolas,'Courier New',monospace\"> ─ <span style=\"font-weight: bold\">Executing parsed code:</span> ──────────────────────────────────────────────────────────────────────────────────────── \n",
       "  <span style=\"color: #f8f8f2; text-decoration-color: #f8f8f2; background-color: #272822\">final_answer(comparison)</span><span style=\"background-color: #272822\">                                                                                       </span>  \n",
       " ───────────────────────────────────────────────────────────────────────────────────────────────────────────────── \n",
       "</pre>\n"
      ],
      "text/plain": [
       " ─ \u001b[1mExecuting parsed code:\u001b[0m ──────────────────────────────────────────────────────────────────────────────────────── \n",
       "  \u001b[38;2;248;248;242;48;2;39;40;34mfinal_answer\u001b[0m\u001b[38;2;248;248;242;48;2;39;40;34m(\u001b[0m\u001b[38;2;248;248;242;48;2;39;40;34mcomparison\u001b[0m\u001b[38;2;248;248;242;48;2;39;40;34m)\u001b[0m\u001b[48;2;39;40;34m                                                                                       \u001b[0m  \n",
       " ───────────────────────────────────────────────────────────────────────────────────────────────────────────────── \n"
      ]
     },
     "metadata": {},
     "output_type": "display_data"
    },
    {
     "data": {
      "text/html": [
       "<pre style=\"white-space:pre;overflow-x:auto;line-height:normal;font-family:Menlo,'DejaVu Sans Mono',consolas,'Courier New',monospace\"><span style=\"color: #d4b702; text-decoration-color: #d4b702; font-weight: bold\">Out - Final answer: The human brain is the central organ of the nervous system, controlling most body activities. </span>\n",
       "<span style=\"color: #d4b702; text-decoration-color: #d4b702; font-weight: bold\">It consists of approximately 86 billion neurons and is capable of complex cognitive functions including learning </span>\n",
       "<span style=\"color: #d4b702; text-decoration-color: #d4b702; font-weight: bold\">and memory. The human brain can reorganize itself (neuroplasticity) and adapt to new experiences throughout life. </span>\n",
       "\n",
       "<span style=\"color: #d4b702; text-decoration-color: #d4b702; font-weight: bold\">An artificial neural network (ANN), on the other hand, is a computational system inspired by the structure and </span>\n",
       "<span style=\"color: #d4b702; text-decoration-color: #d4b702; font-weight: bold\">function of the brain. It consists of layers of artificial neurons and uses algorithms and data to learn and make </span>\n",
       "<span style=\"color: #d4b702; text-decoration-color: #d4b702; font-weight: bold\">predictions. While ANNs can be very powerful for specific tasks, they lack the adaptive capabilities of the human </span>\n",
       "<span style=\"color: #d4b702; text-decoration-color: #d4b702; font-weight: bold\">brain and are limited to the tasks they are programmed to perform.</span>\n",
       "</pre>\n"
      ],
      "text/plain": [
       "\u001b[1;38;2;212;183;2mOut - Final answer: The human brain is the central organ of the nervous system, controlling most body activities. \u001b[0m\n",
       "\u001b[1;38;2;212;183;2mIt consists of approximately 86 billion neurons and is capable of complex cognitive functions including learning \u001b[0m\n",
       "\u001b[1;38;2;212;183;2mand memory. The human brain can reorganize itself (neuroplasticity) and adapt to new experiences throughout life. \u001b[0m\n",
       "\n",
       "\u001b[1;38;2;212;183;2mAn artificial neural network (ANN), on the other hand, is a computational system inspired by the structure and \u001b[0m\n",
       "\u001b[1;38;2;212;183;2mfunction of the brain. It consists of layers of artificial neurons and uses algorithms and data to learn and make \u001b[0m\n",
       "\u001b[1;38;2;212;183;2mpredictions. While ANNs can be very powerful for specific tasks, they lack the adaptive capabilities of the human \u001b[0m\n",
       "\u001b[1;38;2;212;183;2mbrain and are limited to the tasks they are programmed to perform.\u001b[0m\n"
      ]
     },
     "metadata": {},
     "output_type": "display_data"
    },
    {
     "data": {
      "text/html": [
       "<pre style=\"white-space:pre;overflow-x:auto;line-height:normal;font-family:Menlo,'DejaVu Sans Mono',consolas,'Courier New',monospace\"><span style=\"color: #7f7f7f; text-decoration-color: #7f7f7f\">[Step 3: Duration 5.03 seconds| Input tokens: 11,652 | Output tokens: 573]</span>\n",
       "</pre>\n"
      ],
      "text/plain": [
       "\u001b[2m[Step 3: Duration 5.03 seconds| Input tokens: 11,652 | Output tokens: 573]\u001b[0m\n"
      ]
     },
     "metadata": {},
     "output_type": "display_data"
    },
    {
     "data": {
      "text/plain": [
       "'The human brain is the central organ of the nervous system, controlling most body activities. It consists of approximately 86 billion neurons and is capable of complex cognitive functions including learning and memory. The human brain can reorganize itself (neuroplasticity) and adapt to new experiences throughout life. \\n\\nAn artificial neural network (ANN), on the other hand, is a computational system inspired by the structure and function of the brain. It consists of layers of artificial neurons and uses algorithms and data to learn and make predictions. While ANNs can be very powerful for specific tasks, they lack the adaptive capabilities of the human brain and are limited to the tasks they are programmed to perform.'"
      ]
     },
     "execution_count": 8,
     "metadata": {},
     "output_type": "execute_result"
    }
   ],
   "source": [
    "agent.run(\"difference between human brain vs machine brain\")"
   ]
  },
  {
   "cell_type": "code",
   "execution_count": 9,
   "metadata": {},
   "outputs": [],
   "source": [
    "from smolagents import ToolCallingAgent\n",
    "\n"
   ]
  },
  {
   "cell_type": "code",
   "execution_count": 10,
   "metadata": {},
   "outputs": [],
   "source": [
    "tool_agents=ToolCallingAgent(tools=[DuckDuckGoSearchTool()],model=model)"
   ]
  },
  {
   "cell_type": "code",
   "execution_count": 11,
   "metadata": {},
   "outputs": [
    {
     "data": {
      "text/html": [
       "<pre style=\"white-space:pre;overflow-x:auto;line-height:normal;font-family:Menlo,'DejaVu Sans Mono',consolas,'Courier New',monospace\"><span style=\"color: #d4b702; text-decoration-color: #d4b702\">╭──────────────────────────────────────────────────── </span><span style=\"color: #d4b702; text-decoration-color: #d4b702; font-weight: bold\">New run</span><span style=\"color: #d4b702; text-decoration-color: #d4b702\"> ────────────────────────────────────────────────────╮</span>\n",
       "<span style=\"color: #d4b702; text-decoration-color: #d4b702\">│</span>                                                                                                                 <span style=\"color: #d4b702; text-decoration-color: #d4b702\">│</span>\n",
       "<span style=\"color: #d4b702; text-decoration-color: #d4b702\">│</span> <span style=\"font-weight: bold\">agentic job market in 2025</span>                                                                                      <span style=\"color: #d4b702; text-decoration-color: #d4b702\">│</span>\n",
       "<span style=\"color: #d4b702; text-decoration-color: #d4b702\">│</span>                                                                                                                 <span style=\"color: #d4b702; text-decoration-color: #d4b702\">│</span>\n",
       "<span style=\"color: #d4b702; text-decoration-color: #d4b702\">╰─ HfApiModel - Qwen/Qwen2.5-Coder-32B-Instruct ──────────────────────────────────────────────────────────────────╯</span>\n",
       "</pre>\n"
      ],
      "text/plain": [
       "\u001b[38;2;212;183;2m╭─\u001b[0m\u001b[38;2;212;183;2m───────────────────────────────────────────────────\u001b[0m\u001b[38;2;212;183;2m \u001b[0m\u001b[1;38;2;212;183;2mNew run\u001b[0m\u001b[38;2;212;183;2m \u001b[0m\u001b[38;2;212;183;2m───────────────────────────────────────────────────\u001b[0m\u001b[38;2;212;183;2m─╮\u001b[0m\n",
       "\u001b[38;2;212;183;2m│\u001b[0m                                                                                                                 \u001b[38;2;212;183;2m│\u001b[0m\n",
       "\u001b[38;2;212;183;2m│\u001b[0m \u001b[1magentic job market in 2025\u001b[0m                                                                                      \u001b[38;2;212;183;2m│\u001b[0m\n",
       "\u001b[38;2;212;183;2m│\u001b[0m                                                                                                                 \u001b[38;2;212;183;2m│\u001b[0m\n",
       "\u001b[38;2;212;183;2m╰─\u001b[0m\u001b[38;2;212;183;2m HfApiModel - Qwen/Qwen2.5-Coder-32B-Instruct \u001b[0m\u001b[38;2;212;183;2m─────────────────────────────────────────────────────────────────\u001b[0m\u001b[38;2;212;183;2m─╯\u001b[0m\n"
      ]
     },
     "metadata": {},
     "output_type": "display_data"
    },
    {
     "data": {
      "text/html": [
       "<pre style=\"white-space:pre;overflow-x:auto;line-height:normal;font-family:Menlo,'DejaVu Sans Mono',consolas,'Courier New',monospace\"><span style=\"color: #d4b702; text-decoration-color: #d4b702\">━━━━━━━━━━━━━━━━━━━━━━━━━━━━━━━━━━━━━━━━━━━━━━━━━━━━━ </span><span style=\"font-weight: bold\">Step </span><span style=\"color: #008080; text-decoration-color: #008080; font-weight: bold\">1</span><span style=\"color: #d4b702; text-decoration-color: #d4b702\"> ━━━━━━━━━━━━━━━━━━━━━━━━━━━━━━━━━━━━━━━━━━━━━━━━━━━━━━</span>\n",
       "</pre>\n"
      ],
      "text/plain": [
       "\u001b[38;2;212;183;2m━━━━━━━━━━━━━━━━━━━━━━━━━━━━━━━━━━━━━━━━━━━━━━━━━━━━━ \u001b[0m\u001b[1mStep \u001b[0m\u001b[1;36m1\u001b[0m\u001b[38;2;212;183;2m ━━━━━━━━━━━━━━━━━━━━━━━━━━━━━━━━━━━━━━━━━━━━━━━━━━━━━━\u001b[0m\n"
      ]
     },
     "metadata": {},
     "output_type": "display_data"
    },
    {
     "data": {
      "text/html": [
       "<pre style=\"white-space:pre;overflow-x:auto;line-height:normal;font-family:Menlo,'DejaVu Sans Mono',consolas,'Courier New',monospace\">╭─────────────────────────────────────────────────────────────────────────────────────────────────────────────────╮\n",
       "│ Calling tool: 'web_search' with arguments: {'query': 'agentic job market in 2025'}                              │\n",
       "╰─────────────────────────────────────────────────────────────────────────────────────────────────────────────────╯\n",
       "</pre>\n"
      ],
      "text/plain": [
       "╭─────────────────────────────────────────────────────────────────────────────────────────────────────────────────╮\n",
       "│ Calling tool: 'web_search' with arguments: {'query': 'agentic job market in 2025'}                              │\n",
       "╰─────────────────────────────────────────────────────────────────────────────────────────────────────────────────╯\n"
      ]
     },
     "metadata": {},
     "output_type": "display_data"
    },
    {
     "data": {
      "text/html": [
       "<pre style=\"white-space:pre;overflow-x:auto;line-height:normal;font-family:Menlo,'DejaVu Sans Mono',consolas,'Courier New',monospace\">Observations: ## Search Results\n",
       "\n",
       "|The Effect of AI Agents on the Job Market in \n",
       "<span style=\"color: #008080; text-decoration-color: #008080; font-weight: bold\">2025</span><span style=\"font-weight: bold\">](</span><span style=\"color: #0000ff; text-decoration-color: #0000ff; text-decoration: underline\">https://www.analyticsvidhya.com/blog/2025/01/effect-of-ai-agents-in-the-job-market/)</span>\n",
       "In <span style=\"color: #008080; text-decoration-color: #008080; font-weight: bold\">2025</span>, AI agents will be a major force in reshaping the job market and transforming industries. They will create \n",
       "new opportunities while rendering certain jobs obsolete. The adoption of AI will accelerate, with businesses \n",
       "leveraging AI agents for a range of functions, from customer service and HR to data analysis and beyond.\n",
       "\n",
       "|AI Agents in <span style=\"color: #008080; text-decoration-color: #008080; font-weight: bold\">2025</span>: Expectations vs. Reality - \n",
       "IBM<span style=\"font-weight: bold\">](</span><span style=\"color: #0000ff; text-decoration-color: #0000ff; text-decoration: underline\">https://www.ibm.com/think/insights/ai-agents-2025-expectations-vs-reality)</span>\n",
       "<span style=\"color: #008000; text-decoration-color: #008000\">\"More and better agents\"</span> are on the way, predicts Time. <span style=\"color: #008080; text-decoration-color: #008080; font-weight: bold\">1</span> <span style=\"color: #008000; text-decoration-color: #008000\">\"Autonomous 'agents' and profitability are likely to </span>\n",
       "<span style=\"color: #008000; text-decoration-color: #008000\">dominate the artificial intelligence agenda,\"</span> reports Reuters. <span style=\"color: #008080; text-decoration-color: #008080; font-weight: bold\">2</span> <span style=\"color: #008000; text-decoration-color: #008000\">\"The age of agentic AI has arrived,\"</span> promises \n",
       "Forbes, in response to a claim from Nvidia's Jensen Huang. <span style=\"color: #008080; text-decoration-color: #008080; font-weight: bold\">3</span> Tech media is awash with assurances that our lives are\n",
       "on the verge of a total transformation.\n",
       "\n",
       "|<span style=\"color: #008080; text-decoration-color: #008080; font-weight: bold\">2025</span> will be the year of AI agents - \n",
       "TechTarget<span style=\"font-weight: bold\">](</span><span style=\"color: #0000ff; text-decoration-color: #0000ff; text-decoration: underline\">https://www.techtarget.com/searchEnterpriseAI/feature/Next-year-will-be-the-year-of-AI-agents)</span>\n",
       "Agentic Challenges in <span style=\"color: #008080; text-decoration-color: #008080; font-weight: bold\">2025</span>. Similar to other AI technologies, AI agents will face challenges in <span style=\"color: #008080; text-decoration-color: #008080; font-weight: bold\">2025</span>. One is data. \n",
       "Because data is usually spread across different sources and processes, it might be challenging to give AI agents \n",
       "the data they need to perform the tasks they're being asked to do, Greene said.\n",
       "\n",
       "|agentic ai: Will AI take your job in <span style=\"color: #008080; text-decoration-color: #008080; font-weight: bold\">2025</span> <span style=\"color: #808000; text-decoration-color: #808000\">...</span> - The Economic \n",
       "Times<span style=\"font-weight: bold\">](</span><span style=\"color: #0000ff; text-decoration-color: #0000ff; text-decoration: underline\">https://economictimes.indiatimes.com/news/international/us/will-ai-take-your-job-in-2025-technology-experts-</span>\n",
       "<span style=\"color: #0000ff; text-decoration-color: #0000ff; text-decoration: underline\">have-this-to-say/articleshow/117215006.cms)</span>\n",
       "<span style=\"color: #008080; text-decoration-color: #008080; font-weight: bold\">2025</span> could become an even bigger for artificial intelligence and its related companies that are aggressively \n",
       "invested into its research. However, there are chances that Agentic AI may end up being detrimental for the \n",
       "American employment horizon.\n",
       "\n",
       "|How Agentic AI Will Redefine Jobs? |<span style=\"color: #008080; text-decoration-color: #008080; font-weight: bold\">2025</span><span style=\"font-weight: bold\">]</span> - \n",
       "DigitalDefynd<span style=\"font-weight: bold\">](</span><span style=\"color: #0000ff; text-decoration-color: #0000ff; text-decoration: underline\">https://digitaldefynd.com/IQ/how-agentic-ai-will-redefine-jobs/)</span>\n",
       "How Agentic AI Will Redefine Jobs? |<span style=\"color: #008080; text-decoration-color: #008080; font-weight: bold\">2025</span><span style=\"font-weight: bold\">]</span> Automation of Routine Tasks. <span style=\"color: #808000; text-decoration-color: #808000\">...</span> This capacity for remote work widens the\n",
       "job market, allowing companies to access a global talent pool and fostering a more diverse and inclusive workforce.\n",
       "Particularly beneficial for freelancers, these technological advances permit the offering of highly specialized <span style=\"color: #808000; text-decoration-color: #808000\">...</span>\n",
       "\n",
       "|Will <span style=\"color: #008080; text-decoration-color: #008080; font-weight: bold\">2025</span> Be the Year Agentic AI Takes Off? - Built \n",
       "In<span style=\"font-weight: bold\">](</span><span style=\"color: #0000ff; text-decoration-color: #0000ff; text-decoration: underline\">https://builtin.com/artificial-intelligence/year-agentic-ai)</span>\n",
       "How AI, Agentic AI and AI Agents Will Impact the Workforce in <span style=\"color: #008080; text-decoration-color: #008080; font-weight: bold\">2025</span> These Industries Will Embrace Agentic AI \n",
       "Immediately. Off the bat, there are a few organizational functions that we predict are best primed to reap the \n",
       "benefits of agentic AI today: recruiting, sales, customer service, marketing and legal departments. Of course, you \n",
       "can apply <span style=\"color: #808000; text-decoration-color: #808000\">...</span>\n",
       "\n",
       "|AI Agents Aren't Taking Jobs, They're Remaking Them - \n",
       "Forbes<span style=\"font-weight: bold\">](</span><span style=\"color: #0000ff; text-decoration-color: #0000ff; text-decoration: underline\">https://www.forbes.com/sites/garydrenik/2025/02/04/ai-agents-arent-taking-jobs-theyre-remaking-them/)</span>\n",
       "Nvidia CEO Jensen Huang, speaking at CES <span style=\"color: #008080; text-decoration-color: #008080; font-weight: bold\">2025</span>, proclaimed: <span style=\"color: #008000; text-decoration-color: #008000\">\"The age of agentic AI is here.\"</span> OpenAI CEO Sam Altman \n",
       "thinks <span style=\"color: #008080; text-decoration-color: #008080; font-weight: bold\">2025</span> may be the year the first <span style=\"color: #008000; text-decoration-color: #008000\">\"virtual employees\"</span> start entering <span style=\"color: #808000; text-decoration-color: #808000\">...</span>\n",
       "\n",
       "|Key Trends for <span style=\"color: #008080; text-decoration-color: #008080; font-weight: bold\">2025</span>: Agentic Al, Workforce Shifts and \n",
       "Regulations<span style=\"font-weight: bold\">](</span><span style=\"color: #0000ff; text-decoration-color: #0000ff; text-decoration: underline\">https://www.seeitmarket.com/key-trends-for-2025-agentic-al-workforce-shifts-and-regulations/)</span>\n",
       "Spending on agentic AI is projected to hit $4B by <span style=\"color: #008080; text-decoration-color: #008080; font-weight: bold\">2028</span>, growing at a <span style=\"color: #008080; text-decoration-color: #008080; font-weight: bold\">68</span>% CAGRai-and-automation-trend…. Companies \n",
       "developing agentic AI infrastructure <span style=\"font-weight: bold\">(</span>think orchestration, governance, and <span style=\"color: #808000; text-decoration-color: #808000\">...</span>\n",
       "\n",
       "|Agentic AI in Labor Market Size | CAGR of <span style=\"color: #008080; text-decoration-color: #008080; font-weight: bold\">40.3</span>%<span style=\"font-weight: bold\">](</span><span style=\"color: #0000ff; text-decoration-color: #0000ff; text-decoration: underline\">https://market.us/report/agentic-ai-in-labor-market/)</span>\n",
       "The Global Agentic AI in Labor Market size is expected to be worth around USD <span style=\"color: #008080; text-decoration-color: #008080; font-weight: bold\">73.9</span> Billion By <span style=\"color: #008080; text-decoration-color: #008080; font-weight: bold\">2034</span>, from USD <span style=\"color: #008080; text-decoration-color: #008080; font-weight: bold\">2.5</span> \n",
       "Billion in <span style=\"color: #008080; text-decoration-color: #008080; font-weight: bold\">2024</span>, growing at a CAGR of <span style=\"color: #008080; text-decoration-color: #008080; font-weight: bold\">40.30</span>% during the forecast period from <span style=\"color: #008080; text-decoration-color: #008080; font-weight: bold\">2025</span> to <span style=\"color: #008080; text-decoration-color: #008080; font-weight: bold\">2034</span>. In <span style=\"color: #008080; text-decoration-color: #008080; font-weight: bold\">2024</span>, North America \n",
       "held a dominant market position, capturing more than <span style=\"color: #008080; text-decoration-color: #008080; font-weight: bold\">36.7</span>% of the agentic AI labor market, with revenues upto $<span style=\"color: #008080; text-decoration-color: #008080; font-weight: bold\">0.9</span> \n",
       "billion.\n",
       "\n",
       "|Top Agentic AI Frameworks <span style=\"color: #008080; text-decoration-color: #008080; font-weight: bold\">2025</span>: Future Trends &amp; \n",
       "Innovations<span style=\"font-weight: bold\">](</span><span style=\"color: #0000ff; text-decoration-color: #0000ff; text-decoration: underline\">https://startelelogic.com/blog/top-agentic-ai-frameworks-to-watch-in-2025/)</span>\n",
       "As artificial intelligence gets better, agentic AI frameworks are becoming a big change in technology. These \n",
       "frameworks allow smart agents to do complicated jobs, make decisions, and adjust easily to real-life situations. In\n",
       "this article, we will look at the top agentic AI frameworks of <span style=\"color: #008080; text-decoration-color: #008080; font-weight: bold\">2025</span> that are ready to change industries like \n",
       "healthcare, finance, logistics, and more.\n",
       "</pre>\n"
      ],
      "text/plain": [
       "Observations: ## Search Results\n",
       "\n",
       "|The Effect of AI Agents on the Job Market in \n",
       "\u001b[1;36m2025\u001b[0m\u001b[1m]\u001b[0m\u001b[1m(\u001b[0m\u001b[4;94mhttps://www.analyticsvidhya.com/blog/2025/01/effect-of-ai-agents-in-the-job-market/\u001b[0m\u001b[4;94m)\u001b[0m\n",
       "In \u001b[1;36m2025\u001b[0m, AI agents will be a major force in reshaping the job market and transforming industries. They will create \n",
       "new opportunities while rendering certain jobs obsolete. The adoption of AI will accelerate, with businesses \n",
       "leveraging AI agents for a range of functions, from customer service and HR to data analysis and beyond.\n",
       "\n",
       "|AI Agents in \u001b[1;36m2025\u001b[0m: Expectations vs. Reality - \n",
       "IBM\u001b[1m]\u001b[0m\u001b[1m(\u001b[0m\u001b[4;94mhttps://www.ibm.com/think/insights/ai-agents-2025-expectations-vs-reality\u001b[0m\u001b[4;94m)\u001b[0m\n",
       "\u001b[32m\"More and better agents\"\u001b[0m are on the way, predicts Time. \u001b[1;36m1\u001b[0m \u001b[32m\"Autonomous 'agents' and profitability are likely to \u001b[0m\n",
       "\u001b[32mdominate the artificial intelligence agenda,\"\u001b[0m reports Reuters. \u001b[1;36m2\u001b[0m \u001b[32m\"The age of agentic AI has arrived,\"\u001b[0m promises \n",
       "Forbes, in response to a claim from Nvidia's Jensen Huang. \u001b[1;36m3\u001b[0m Tech media is awash with assurances that our lives are\n",
       "on the verge of a total transformation.\n",
       "\n",
       "|\u001b[1;36m2025\u001b[0m will be the year of AI agents - \n",
       "TechTarget\u001b[1m]\u001b[0m\u001b[1m(\u001b[0m\u001b[4;94mhttps://www.techtarget.com/searchEnterpriseAI/feature/Next-year-will-be-the-year-of-AI-agents\u001b[0m\u001b[4;94m)\u001b[0m\n",
       "Agentic Challenges in \u001b[1;36m2025\u001b[0m. Similar to other AI technologies, AI agents will face challenges in \u001b[1;36m2025\u001b[0m. One is data. \n",
       "Because data is usually spread across different sources and processes, it might be challenging to give AI agents \n",
       "the data they need to perform the tasks they're being asked to do, Greene said.\n",
       "\n",
       "|agentic ai: Will AI take your job in \u001b[1;36m2025\u001b[0m \u001b[33m...\u001b[0m - The Economic \n",
       "Times\u001b[1m]\u001b[0m\u001b[1m(\u001b[0m\u001b[4;94mhttps://economictimes.indiatimes.com/news/international/us/will-ai-take-your-job-in-2025-technology-experts-\u001b[0m\n",
       "\u001b[4;94mhave-this-to-say/articleshow/117215006.cms\u001b[0m\u001b[4;94m)\u001b[0m\n",
       "\u001b[1;36m2025\u001b[0m could become an even bigger for artificial intelligence and its related companies that are aggressively \n",
       "invested into its research. However, there are chances that Agentic AI may end up being detrimental for the \n",
       "American employment horizon.\n",
       "\n",
       "|How Agentic AI Will Redefine Jobs? |\u001b[1;36m2025\u001b[0m\u001b[1m]\u001b[0m - \n",
       "DigitalDefynd\u001b[1m]\u001b[0m\u001b[1m(\u001b[0m\u001b[4;94mhttps://digitaldefynd.com/IQ/how-agentic-ai-will-redefine-jobs/\u001b[0m\u001b[4;94m)\u001b[0m\n",
       "How Agentic AI Will Redefine Jobs? |\u001b[1;36m2025\u001b[0m\u001b[1m]\u001b[0m Automation of Routine Tasks. \u001b[33m...\u001b[0m This capacity for remote work widens the\n",
       "job market, allowing companies to access a global talent pool and fostering a more diverse and inclusive workforce.\n",
       "Particularly beneficial for freelancers, these technological advances permit the offering of highly specialized \u001b[33m...\u001b[0m\n",
       "\n",
       "|Will \u001b[1;36m2025\u001b[0m Be the Year Agentic AI Takes Off? - Built \n",
       "In\u001b[1m]\u001b[0m\u001b[1m(\u001b[0m\u001b[4;94mhttps://builtin.com/artificial-intelligence/year-agentic-ai\u001b[0m\u001b[4;94m)\u001b[0m\n",
       "How AI, Agentic AI and AI Agents Will Impact the Workforce in \u001b[1;36m2025\u001b[0m These Industries Will Embrace Agentic AI \n",
       "Immediately. Off the bat, there are a few organizational functions that we predict are best primed to reap the \n",
       "benefits of agentic AI today: recruiting, sales, customer service, marketing and legal departments. Of course, you \n",
       "can apply \u001b[33m...\u001b[0m\n",
       "\n",
       "|AI Agents Aren't Taking Jobs, They're Remaking Them - \n",
       "Forbes\u001b[1m]\u001b[0m\u001b[1m(\u001b[0m\u001b[4;94mhttps://www.forbes.com/sites/garydrenik/2025/02/04/ai-agents-arent-taking-jobs-theyre-remaking-them/\u001b[0m\u001b[4;94m)\u001b[0m\n",
       "Nvidia CEO Jensen Huang, speaking at CES \u001b[1;36m2025\u001b[0m, proclaimed: \u001b[32m\"The age of agentic AI is here.\"\u001b[0m OpenAI CEO Sam Altman \n",
       "thinks \u001b[1;36m2025\u001b[0m may be the year the first \u001b[32m\"virtual employees\"\u001b[0m start entering \u001b[33m...\u001b[0m\n",
       "\n",
       "|Key Trends for \u001b[1;36m2025\u001b[0m: Agentic Al, Workforce Shifts and \n",
       "Regulations\u001b[1m]\u001b[0m\u001b[1m(\u001b[0m\u001b[4;94mhttps://www.seeitmarket.com/key-trends-for-2025-agentic-al-workforce-shifts-and-regulations/\u001b[0m\u001b[4;94m)\u001b[0m\n",
       "Spending on agentic AI is projected to hit $4B by \u001b[1;36m2028\u001b[0m, growing at a \u001b[1;36m68\u001b[0m% CAGRai-and-automation-trend…. Companies \n",
       "developing agentic AI infrastructure \u001b[1m(\u001b[0mthink orchestration, governance, and \u001b[33m...\u001b[0m\n",
       "\n",
       "|Agentic AI in Labor Market Size | CAGR of \u001b[1;36m40.3\u001b[0m%\u001b[1m]\u001b[0m\u001b[1m(\u001b[0m\u001b[4;94mhttps://market.us/report/agentic-ai-in-labor-market/\u001b[0m\u001b[4;94m)\u001b[0m\n",
       "The Global Agentic AI in Labor Market size is expected to be worth around USD \u001b[1;36m73.9\u001b[0m Billion By \u001b[1;36m2034\u001b[0m, from USD \u001b[1;36m2.5\u001b[0m \n",
       "Billion in \u001b[1;36m2024\u001b[0m, growing at a CAGR of \u001b[1;36m40.30\u001b[0m% during the forecast period from \u001b[1;36m2025\u001b[0m to \u001b[1;36m2034\u001b[0m. In \u001b[1;36m2024\u001b[0m, North America \n",
       "held a dominant market position, capturing more than \u001b[1;36m36.7\u001b[0m% of the agentic AI labor market, with revenues upto $\u001b[1;36m0.9\u001b[0m \n",
       "billion.\n",
       "\n",
       "|Top Agentic AI Frameworks \u001b[1;36m2025\u001b[0m: Future Trends & \n",
       "Innovations\u001b[1m]\u001b[0m\u001b[1m(\u001b[0m\u001b[4;94mhttps://startelelogic.com/blog/top-agentic-ai-frameworks-to-watch-in-2025/\u001b[0m\u001b[4;94m)\u001b[0m\n",
       "As artificial intelligence gets better, agentic AI frameworks are becoming a big change in technology. These \n",
       "frameworks allow smart agents to do complicated jobs, make decisions, and adjust easily to real-life situations. In\n",
       "this article, we will look at the top agentic AI frameworks of \u001b[1;36m2025\u001b[0m that are ready to change industries like \n",
       "healthcare, finance, logistics, and more.\n"
      ]
     },
     "metadata": {},
     "output_type": "display_data"
    },
    {
     "data": {
      "text/html": [
       "<pre style=\"white-space:pre;overflow-x:auto;line-height:normal;font-family:Menlo,'DejaVu Sans Mono',consolas,'Courier New',monospace\"><span style=\"color: #7f7f7f; text-decoration-color: #7f7f7f\">[Step 1: Duration 4.62 seconds| Input tokens: 1,169 | Output tokens: 27]</span>\n",
       "</pre>\n"
      ],
      "text/plain": [
       "\u001b[2m[Step 1: Duration 4.62 seconds| Input tokens: 1,169 | Output tokens: 27]\u001b[0m\n"
      ]
     },
     "metadata": {},
     "output_type": "display_data"
    },
    {
     "data": {
      "text/html": [
       "<pre style=\"white-space:pre;overflow-x:auto;line-height:normal;font-family:Menlo,'DejaVu Sans Mono',consolas,'Courier New',monospace\"><span style=\"color: #d4b702; text-decoration-color: #d4b702\">━━━━━━━━━━━━━━━━━━━━━━━━━━━━━━━━━━━━━━━━━━━━━━━━━━━━━ </span><span style=\"font-weight: bold\">Step </span><span style=\"color: #008080; text-decoration-color: #008080; font-weight: bold\">2</span><span style=\"color: #d4b702; text-decoration-color: #d4b702\"> ━━━━━━━━━━━━━━━━━━━━━━━━━━━━━━━━━━━━━━━━━━━━━━━━━━━━━━</span>\n",
       "</pre>\n"
      ],
      "text/plain": [
       "\u001b[38;2;212;183;2m━━━━━━━━━━━━━━━━━━━━━━━━━━━━━━━━━━━━━━━━━━━━━━━━━━━━━ \u001b[0m\u001b[1mStep \u001b[0m\u001b[1;36m2\u001b[0m\u001b[38;2;212;183;2m ━━━━━━━━━━━━━━━━━━━━━━━━━━━━━━━━━━━━━━━━━━━━━━━━━━━━━━\u001b[0m\n"
      ]
     },
     "metadata": {},
     "output_type": "display_data"
    },
    {
     "data": {
      "text/html": [
       "<pre style=\"white-space:pre;overflow-x:auto;line-height:normal;font-family:Menlo,'DejaVu Sans Mono',consolas,'Courier New',monospace\">╭─────────────────────────────────────────────────────────────────────────────────────────────────────────────────╮\n",
       "│ Calling tool: 'final_answer' with arguments: {'answer': 'In 2025, AI agents are expected to significantly       │\n",
       "│ reshape the job market. They will create new opportunities while making certain jobs obsolete. Key trends       │\n",
       "│ include the acceleration of AI adoption, particularly in customer service, HR, data analysis, and other         │\n",
       "│ functions. Agentic AI is projected to grow at a high compound annual growth rate (CAGR), with a focus on        │\n",
       "│ automation of routine tasks and enhancing the accessibility to a global talent pool. While some experts caution │\n",
       "│ about potential challenges, such as data integration, the consensus is that AI agents will not replace jobs but │\n",
       "│ rather redefine them by enhancing productivity and efficiency across various industries.'}                      │\n",
       "╰─────────────────────────────────────────────────────────────────────────────────────────────────────────────────╯\n",
       "</pre>\n"
      ],
      "text/plain": [
       "╭─────────────────────────────────────────────────────────────────────────────────────────────────────────────────╮\n",
       "│ Calling tool: 'final_answer' with arguments: {'answer': 'In 2025, AI agents are expected to significantly       │\n",
       "│ reshape the job market. They will create new opportunities while making certain jobs obsolete. Key trends       │\n",
       "│ include the acceleration of AI adoption, particularly in customer service, HR, data analysis, and other         │\n",
       "│ functions. Agentic AI is projected to grow at a high compound annual growth rate (CAGR), with a focus on        │\n",
       "│ automation of routine tasks and enhancing the accessibility to a global talent pool. While some experts caution │\n",
       "│ about potential challenges, such as data integration, the consensus is that AI agents will not replace jobs but │\n",
       "│ rather redefine them by enhancing productivity and efficiency across various industries.'}                      │\n",
       "╰─────────────────────────────────────────────────────────────────────────────────────────────────────────────────╯\n"
      ]
     },
     "metadata": {},
     "output_type": "display_data"
    },
    {
     "data": {
      "text/html": [
       "<pre style=\"white-space:pre;overflow-x:auto;line-height:normal;font-family:Menlo,'DejaVu Sans Mono',consolas,'Courier New',monospace\"><span style=\"color: #d4b702; text-decoration-color: #d4b702; font-weight: bold\">Final answer: In 2025, AI agents are expected to significantly reshape the job market. They will create new </span>\n",
       "<span style=\"color: #d4b702; text-decoration-color: #d4b702; font-weight: bold\">opportunities while making certain jobs obsolete. Key trends include the acceleration of AI adoption, particularly </span>\n",
       "<span style=\"color: #d4b702; text-decoration-color: #d4b702; font-weight: bold\">in customer service, HR, data analysis, and other functions. Agentic AI is projected to grow at a high compound </span>\n",
       "<span style=\"color: #d4b702; text-decoration-color: #d4b702; font-weight: bold\">annual growth rate (CAGR), with a focus on automation of routine tasks and enhancing the accessibility to a global </span>\n",
       "<span style=\"color: #d4b702; text-decoration-color: #d4b702; font-weight: bold\">talent pool. While some experts caution about potential challenges, such as data integration, the consensus is that</span>\n",
       "<span style=\"color: #d4b702; text-decoration-color: #d4b702; font-weight: bold\">AI agents will not replace jobs but rather redefine them by enhancing productivity and efficiency across various </span>\n",
       "<span style=\"color: #d4b702; text-decoration-color: #d4b702; font-weight: bold\">industries.</span>\n",
       "</pre>\n"
      ],
      "text/plain": [
       "\u001b[1;38;2;212;183;2mFinal answer: In 2025, AI agents are expected to significantly reshape the job market. They will create new \u001b[0m\n",
       "\u001b[1;38;2;212;183;2mopportunities while making certain jobs obsolete. Key trends include the acceleration of AI adoption, particularly \u001b[0m\n",
       "\u001b[1;38;2;212;183;2min customer service, HR, data analysis, and other functions. Agentic AI is projected to grow at a high compound \u001b[0m\n",
       "\u001b[1;38;2;212;183;2mannual growth rate (CAGR), with a focus on automation of routine tasks and enhancing the accessibility to a global \u001b[0m\n",
       "\u001b[1;38;2;212;183;2mtalent pool. While some experts caution about potential challenges, such as data integration, the consensus is that\u001b[0m\n",
       "\u001b[1;38;2;212;183;2mAI agents will not replace jobs but rather redefine them by enhancing productivity and efficiency across various \u001b[0m\n",
       "\u001b[1;38;2;212;183;2mindustries.\u001b[0m\n"
      ]
     },
     "metadata": {},
     "output_type": "display_data"
    },
    {
     "data": {
      "text/html": [
       "<pre style=\"white-space:pre;overflow-x:auto;line-height:normal;font-family:Menlo,'DejaVu Sans Mono',consolas,'Courier New',monospace\"><span style=\"color: #7f7f7f; text-decoration-color: #7f7f7f\">[Step 2: Duration 12.07 seconds| Input tokens: 3,561 | Output tokens: 167]</span>\n",
       "</pre>\n"
      ],
      "text/plain": [
       "\u001b[2m[Step 2: Duration 12.07 seconds| Input tokens: 3,561 | Output tokens: 167]\u001b[0m\n"
      ]
     },
     "metadata": {},
     "output_type": "display_data"
    },
    {
     "data": {
      "text/plain": [
       "'In 2025, AI agents are expected to significantly reshape the job market. They will create new opportunities while making certain jobs obsolete. Key trends include the acceleration of AI adoption, particularly in customer service, HR, data analysis, and other functions. Agentic AI is projected to grow at a high compound annual growth rate (CAGR), with a focus on automation of routine tasks and enhancing the accessibility to a global talent pool. While some experts caution about potential challenges, such as data integration, the consensus is that AI agents will not replace jobs but rather redefine them by enhancing productivity and efficiency across various industries.'"
      ]
     },
     "execution_count": 11,
     "metadata": {},
     "output_type": "execute_result"
    }
   ],
   "source": [
    "tool_agents.run(\"agentic job market in 2025\")"
   ]
  },
  {
   "cell_type": "code",
   "execution_count": null,
   "metadata": {},
   "outputs": [],
   "source": []
  }
 ],
 "metadata": {
  "kernelspec": {
   "display_name": "myvenv",
   "language": "python",
   "name": "python3"
  },
  "language_info": {
   "codemirror_mode": {
    "name": "ipython",
    "version": 3
   },
   "file_extension": ".py",
   "mimetype": "text/x-python",
   "name": "python",
   "nbconvert_exporter": "python",
   "pygments_lexer": "ipython3",
   "version": "3.12.0"
  }
 },
 "nbformat": 4,
 "nbformat_minor": 2
}
